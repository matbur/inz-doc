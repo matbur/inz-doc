{
 "cells": [
  {
   "cell_type": "code",
   "execution_count": 1,
   "metadata": {},
   "outputs": [
    {
     "name": "stdout",
     "output_type": "stream",
     "text": [
      "Using matplotlib backend: Qt5Agg\n"
     ]
    }
   ],
   "source": [
    "import matplotlib.pyplot as plt\n",
    "import json\n",
    "from pathlib import Path\n",
    "import pandas as pd\n",
    "import numpy as np\n",
    "import re\n",
    "import pickle\n",
    "from collections import namedtuple\n",
    "\n",
    "%matplotlib"
   ]
  },
  {
   "cell_type": "code",
   "execution_count": 2,
   "metadata": {},
   "outputs": [
    {
     "data": {
      "text/plain": [
       "120"
      ]
     },
     "execution_count": 2,
     "metadata": {},
     "output_type": "execute_result"
    }
   ],
   "source": [
    "DIR = Path('./1511337619/')\n",
    "FILES = list(DIR.glob('*train*.json'))\n",
    "len(FILES)"
   ]
  },
  {
   "cell_type": "code",
   "execution_count": 3,
   "metadata": {},
   "outputs": [],
   "source": [
    "# FILES = FILES[:10]"
   ]
  },
  {
   "cell_type": "code",
   "execution_count": 4,
   "metadata": {},
   "outputs": [
    {
     "name": "stdout",
     "output_type": "stream",
     "text": [
      "model(shape='24_16_12_8', activation='sigmoid', features='10', learning_rate='0.1_0.01')\n"
     ]
    },
    {
     "data": {
      "text/plain": [
       "'s_24_16_12_8_a_sigmoid_f_10_bs_10_lr_0.1_0.01_train'"
      ]
     },
     "execution_count": 4,
     "metadata": {},
     "output_type": "execute_result"
    }
   ],
   "source": [
    "pat = re.compile(r's_([0-9_]+)_a_(\\w+)_f_(\\d+)_bs_(\\d+)_lr_([0-9._]+)_train')\n",
    "\n",
    "model = namedtuple('model', ['shape', 'activation', 'features', 'learning_rate'])\n",
    "\n",
    "def foo(s):\n",
    "    parts = list(pat.findall(s)[0])\n",
    "    del parts[3]  # remove batch size\n",
    "    return model(*parts)\n",
    "\n",
    "s = FILES[0].stem\n",
    "print(foo(s))\n",
    "s"
   ]
  },
  {
   "cell_type": "code",
   "execution_count": 5,
   "metadata": {
    "scrolled": true
   },
   "outputs": [
    {
     "data": {
      "text/plain": [
       "[model(shape='24_16_12_8', activation='sigmoid', features='10', learning_rate='0.1_0.01'),\n",
       " model(shape='16_12_8', activation='tanh', features='30', learning_rate='0.2_0.2'),\n",
       " model(shape='8', activation='tanh', features='20', learning_rate='0.2_0.001'),\n",
       " model(shape='24_16_12_8', activation='tanh', features='10', learning_rate='0.1_0.01'),\n",
       " model(shape='16_8', activation='sigmoid', features='30', learning_rate='0.2_0.001'),\n",
       " model(shape='16_8', activation='sigmoid', features='20', learning_rate='0.1_0.1'),\n",
       " model(shape='24_16_12_8', activation='sigmoid', features='20', learning_rate='0.1_0.1'),\n",
       " model(shape='16_8', activation='sigmoid', features='10', learning_rate='0.2_0.2'),\n",
       " model(shape='16_12_8', activation='sigmoid', features='30', learning_rate='0.1_0.01'),\n",
       " model(shape='24_16_12_8', activation='sigmoid', features='20', learning_rate='0.2_0.01'),\n",
       " model(shape='8', activation='sigmoid', features='20', learning_rate='0.2_0.01'),\n",
       " model(shape='16_8', activation='sigmoid', features='20', learning_rate='0.1_0.01'),\n",
       " model(shape='16_8', activation='sigmoid', features='30', learning_rate='0.2_0.01'),\n",
       " model(shape='24_16_12_8', activation='sigmoid', features='20', learning_rate='0.1_0.01'),\n",
       " model(shape='24_16_12_8', activation='tanh', features='20', learning_rate='0.2_0.001'),\n",
       " model(shape='16_12_8', activation='tanh', features='20', learning_rate='0.2_0.001'),\n",
       " model(shape='16_8', activation='sigmoid', features='10', learning_rate='0.2_0.01'),\n",
       " model(shape='8', activation='tanh', features='30', learning_rate='0.2_0.2'),\n",
       " model(shape='8', activation='tanh', features='10', learning_rate='0.2_0.01'),\n",
       " model(shape='16_8', activation='sigmoid', features='30', learning_rate='0.1_0.01'),\n",
       " model(shape='16_12_8', activation='sigmoid', features='30', learning_rate='0.2_0.01'),\n",
       " model(shape='16_12_8', activation='sigmoid', features='20', learning_rate='0.1_0.1'),\n",
       " model(shape='16_12_8', activation='tanh', features='30', learning_rate='0.2_0.01'),\n",
       " model(shape='16_8', activation='tanh', features='10', learning_rate='0.1_0.1'),\n",
       " model(shape='8', activation='sigmoid', features='30', learning_rate='0.2_0.01'),\n",
       " model(shape='8', activation='tanh', features='10', learning_rate='0.2_0.001'),\n",
       " model(shape='24_16_12_8', activation='sigmoid', features='30', learning_rate='0.1_0.01'),\n",
       " model(shape='24_16_12_8', activation='tanh', features='10', learning_rate='0.2_0.01'),\n",
       " model(shape='16_8', activation='sigmoid', features='10', learning_rate='0.1_0.1'),\n",
       " model(shape='8', activation='sigmoid', features='30', learning_rate='0.1_0.01'),\n",
       " model(shape='16_8', activation='sigmoid', features='10', learning_rate='0.2_0.001'),\n",
       " model(shape='8', activation='tanh', features='10', learning_rate='0.1_0.01'),\n",
       " model(shape='16_8', activation='sigmoid', features='20', learning_rate='0.2_0.01'),\n",
       " model(shape='8', activation='sigmoid', features='10', learning_rate='0.2_0.001'),\n",
       " model(shape='24_16_12_8', activation='tanh', features='30', learning_rate='0.2_0.01'),\n",
       " model(shape='16_8', activation='sigmoid', features='20', learning_rate='0.2_0.001'),\n",
       " model(shape='24_16_12_8', activation='sigmoid', features='30', learning_rate='0.1_0.1'),\n",
       " model(shape='16_8', activation='sigmoid', features='30', learning_rate='0.1_0.1'),\n",
       " model(shape='16_12_8', activation='sigmoid', features='10', learning_rate='0.2_0.01'),\n",
       " model(shape='8', activation='sigmoid', features='30', learning_rate='0.2_0.001'),\n",
       " model(shape='16_12_8', activation='tanh', features='30', learning_rate='0.2_0.001'),\n",
       " model(shape='24_16_12_8', activation='tanh', features='10', learning_rate='0.2_0.001'),\n",
       " model(shape='8', activation='tanh', features='20', learning_rate='0.1_0.1'),\n",
       " model(shape='24_16_12_8', activation='sigmoid', features='10', learning_rate='0.1_0.1'),\n",
       " model(shape='24_16_12_8', activation='sigmoid', features='10', learning_rate='0.2_0.001'),\n",
       " model(shape='16_12_8', activation='tanh', features='20', learning_rate='0.1_0.1'),\n",
       " model(shape='16_12_8', activation='sigmoid', features='10', learning_rate='0.1_0.1'),\n",
       " model(shape='8', activation='sigmoid', features='20', learning_rate='0.1_0.1'),\n",
       " model(shape='16_8', activation='tanh', features='30', learning_rate='0.1_0.01'),\n",
       " model(shape='24_16_12_8', activation='tanh', features='30', learning_rate='0.1_0.01'),\n",
       " model(shape='8', activation='sigmoid', features='30', learning_rate='0.1_0.1'),\n",
       " model(shape='16_12_8', activation='sigmoid', features='20', learning_rate='0.2_0.001'),\n",
       " model(shape='8', activation='tanh', features='30', learning_rate='0.2_0.001'),\n",
       " model(shape='16_8', activation='tanh', features='20', learning_rate='0.1_0.1'),\n",
       " model(shape='24_16_12_8', activation='tanh', features='30', learning_rate='0.2_0.2'),\n",
       " model(shape='16_8', activation='tanh', features='10', learning_rate='0.2_0.2'),\n",
       " model(shape='24_16_12_8', activation='sigmoid', features='10', learning_rate='0.2_0.01'),\n",
       " model(shape='8', activation='sigmoid', features='20', learning_rate='0.2_0.2'),\n",
       " model(shape='16_12_8', activation='tanh', features='20', learning_rate='0.1_0.01'),\n",
       " model(shape='8', activation='sigmoid', features='10', learning_rate='0.2_0.2'),\n",
       " model(shape='24_16_12_8', activation='tanh', features='20', learning_rate='0.2_0.01'),\n",
       " model(shape='16_12_8', activation='sigmoid', features='20', learning_rate='0.1_0.01'),\n",
       " model(shape='24_16_12_8', activation='sigmoid', features='30', learning_rate='0.2_0.2'),\n",
       " model(shape='8', activation='tanh', features='20', learning_rate='0.2_0.01'),\n",
       " model(shape='16_8', activation='tanh', features='20', learning_rate='0.2_0.001'),\n",
       " model(shape='16_8', activation='tanh', features='10', learning_rate='0.1_0.01'),\n",
       " model(shape='24_16_12_8', activation='sigmoid', features='30', learning_rate='0.2_0.001'),\n",
       " model(shape='24_16_12_8', activation='sigmoid', features='20', learning_rate='0.2_0.2'),\n",
       " model(shape='16_8', activation='tanh', features='10', learning_rate='0.2_0.01'),\n",
       " model(shape='24_16_12_8', activation='tanh', features='30', learning_rate='0.1_0.1'),\n",
       " model(shape='8', activation='tanh', features='10', learning_rate='0.2_0.2'),\n",
       " model(shape='16_8', activation='tanh', features='20', learning_rate='0.1_0.01'),\n",
       " model(shape='24_16_12_8', activation='sigmoid', features='10', learning_rate='0.2_0.2'),\n",
       " model(shape='16_12_8', activation='tanh', features='30', learning_rate='0.1_0.01'),\n",
       " model(shape='24_16_12_8', activation='tanh', features='30', learning_rate='0.2_0.001'),\n",
       " model(shape='16_8', activation='sigmoid', features='30', learning_rate='0.2_0.2'),\n",
       " model(shape='16_8', activation='tanh', features='30', learning_rate='0.2_0.001'),\n",
       " model(shape='8', activation='sigmoid', features='10', learning_rate='0.1_0.01'),\n",
       " model(shape='16_12_8', activation='sigmoid', features='20', learning_rate='0.2_0.2'),\n",
       " model(shape='16_12_8', activation='tanh', features='10', learning_rate='0.1_0.01'),\n",
       " model(shape='16_12_8', activation='tanh', features='20', learning_rate='0.2_0.2'),\n",
       " model(shape='16_8', activation='tanh', features='30', learning_rate='0.2_0.2'),\n",
       " model(shape='8', activation='sigmoid', features='20', learning_rate='0.2_0.001'),\n",
       " model(shape='8', activation='sigmoid', features='30', learning_rate='0.2_0.2'),\n",
       " model(shape='8', activation='tanh', features='30', learning_rate='0.2_0.01'),\n",
       " model(shape='16_8', activation='tanh', features='30', learning_rate='0.2_0.01'),\n",
       " model(shape='16_12_8', activation='sigmoid', features='30', learning_rate='0.1_0.1'),\n",
       " model(shape='16_12_8', activation='tanh', features='30', learning_rate='0.1_0.1'),\n",
       " model(shape='8', activation='sigmoid', features='10', learning_rate='0.2_0.01'),\n",
       " model(shape='24_16_12_8', activation='tanh', features='10', learning_rate='0.2_0.2'),\n",
       " model(shape='8', activation='tanh', features='20', learning_rate='0.1_0.01'),\n",
       " model(shape='24_16_12_8', activation='tanh', features='20', learning_rate='0.2_0.2'),\n",
       " model(shape='8', activation='tanh', features='20', learning_rate='0.2_0.2'),\n",
       " model(shape='16_12_8', activation='tanh', features='20', learning_rate='0.2_0.01'),\n",
       " model(shape='24_16_12_8', activation='tanh', features='20', learning_rate='0.1_0.1'),\n",
       " model(shape='24_16_12_8', activation='tanh', features='20', learning_rate='0.1_0.01'),\n",
       " model(shape='16_8', activation='sigmoid', features='10', learning_rate='0.1_0.01'),\n",
       " model(shape='16_12_8', activation='sigmoid', features='30', learning_rate='0.2_0.001'),\n",
       " model(shape='8', activation='tanh', features='30', learning_rate='0.1_0.1'),\n",
       " model(shape='16_12_8', activation='tanh', features='10', learning_rate='0.2_0.2'),\n",
       " model(shape='24_16_12_8', activation='sigmoid', features='30', learning_rate='0.2_0.01'),\n",
       " model(shape='8', activation='tanh', features='30', learning_rate='0.1_0.01'),\n",
       " model(shape='16_8', activation='tanh', features='10', learning_rate='0.2_0.001'),\n",
       " model(shape='8', activation='tanh', features='10', learning_rate='0.1_0.1'),\n",
       " model(shape='16_12_8', activation='sigmoid', features='10', learning_rate='0.1_0.01'),\n",
       " model(shape='16_12_8', activation='tanh', features='10', learning_rate='0.2_0.01'),\n",
       " model(shape='24_16_12_8', activation='sigmoid', features='20', learning_rate='0.2_0.001'),\n",
       " model(shape='16_8', activation='tanh', features='20', learning_rate='0.2_0.01'),\n",
       " model(shape='16_12_8', activation='sigmoid', features='10', learning_rate='0.2_0.2'),\n",
       " model(shape='16_8', activation='sigmoid', features='20', learning_rate='0.2_0.2'),\n",
       " model(shape='8', activation='sigmoid', features='10', learning_rate='0.1_0.1'),\n",
       " model(shape='16_12_8', activation='tanh', features='10', learning_rate='0.2_0.001'),\n",
       " model(shape='16_8', activation='tanh', features='20', learning_rate='0.2_0.2'),\n",
       " model(shape='16_8', activation='tanh', features='30', learning_rate='0.1_0.1'),\n",
       " model(shape='24_16_12_8', activation='tanh', features='10', learning_rate='0.1_0.1'),\n",
       " model(shape='8', activation='sigmoid', features='20', learning_rate='0.1_0.01'),\n",
       " model(shape='16_12_8', activation='tanh', features='10', learning_rate='0.1_0.1'),\n",
       " model(shape='16_12_8', activation='sigmoid', features='20', learning_rate='0.2_0.01'),\n",
       " model(shape='16_12_8', activation='sigmoid', features='10', learning_rate='0.2_0.001'),\n",
       " model(shape='16_12_8', activation='sigmoid', features='30', learning_rate='0.2_0.2')]"
      ]
     },
     "execution_count": 5,
     "metadata": {},
     "output_type": "execute_result"
    }
   ],
   "source": [
    "testing = {}\n",
    "training = {}\n",
    "files = []\n",
    "\n",
    "for file in FILES:\n",
    "    s = foo(file.stem)\n",
    "    files.append(s)\n",
    "    with file.open() as f:\n",
    "        j = json.load(f)\n",
    "    testing[s] = pd.DataFrame(j['testing']).set_index('epoch')\n",
    "    training[s] = pd.DataFrame(j['training']).set_index('step')\n",
    "\n",
    "data = {'files': files, 'testing': testing, 'training': training}\n",
    "files"
   ]
  },
  {
   "cell_type": "code",
   "execution_count": 6,
   "metadata": {},
   "outputs": [],
   "source": [
    "with open('./data/tests.pkl', 'wb') as f:\n",
    "    pickle.dump(data, f)"
   ]
  },
  {
   "cell_type": "code",
   "execution_count": null,
   "metadata": {},
   "outputs": [],
   "source": [
    "testing[list(testing.keys())[0]]"
   ]
  },
  {
   "cell_type": "code",
   "execution_count": null,
   "metadata": {},
   "outputs": [],
   "source": [
    "training[list(training.keys())[0]]"
   ]
  },
  {
   "cell_type": "code",
   "execution_count": null,
   "metadata": {},
   "outputs": [],
   "source": [
    "for k, v in data.items():\n",
    "    acc = v['test_accuracy']\n",
    "    if acc.max() < .88:\n",
    "        continue\n",
    "    print(acc.max())\n",
    "    acc.plot(label=k)\n",
    "plt.legend()\n",
    "plt.show()"
   ]
  },
  {
   "cell_type": "code",
   "execution_count": null,
   "metadata": {},
   "outputs": [],
   "source": [
    "data[list(data.keys())[0]].describe()"
   ]
  },
  {
   "cell_type": "code",
   "execution_count": null,
   "metadata": {},
   "outputs": [],
   "source": []
  }
 ],
 "metadata": {
  "kernelspec": {
   "display_name": "Python 3",
   "language": "python",
   "name": "python3"
  },
  "language_info": {
   "codemirror_mode": {
    "name": "ipython",
    "version": 3
   },
   "file_extension": ".py",
   "mimetype": "text/x-python",
   "name": "python",
   "nbconvert_exporter": "python",
   "pygments_lexer": "ipython3",
   "version": "3.6.3"
  }
 },
 "nbformat": 4,
 "nbformat_minor": 2
}
